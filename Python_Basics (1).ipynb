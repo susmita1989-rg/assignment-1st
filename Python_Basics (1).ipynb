{
  "nbformat": 4,
  "nbformat_minor": 0,
  "metadata": {
    "colab": {
      "provenance": []
    },
    "kernelspec": {
      "name": "python3",
      "display_name": "Python 3"
    },
    "language_info": {
      "name": "python"
    }
  },
  "cells": [
    {
      "cell_type": "markdown",
      "source": [
        "# Python Basics"
      ],
      "metadata": {
        "id": "3Byx3RSFzAeA"
      }
    },
    {
      "cell_type": "markdown",
      "source": [
        "1 What is Python, and why is it popular ?\n",
        "- Pyhton is easiest programming languages and it also recommended for beginner. It is most useful programming languages and it widely use in the  software industry . Data scince , machine learning and automatic task in this most demand languages are growing is python .\n",
        "\n",
        " Python is more propular beacuse it have vast collection of libraries  or simple and  easy to learn ."
      ],
      "metadata": {
        "id": "oAL04jy6zJLN"
      }
    },
    {
      "cell_type": "markdown",
      "source": [
        "2 What is an interpreter in Python ?\n",
        "  -  A Python interpreter is a program that reads and executes Python code line by line . the interpreter translates the high level language into  machine language . This process is called interpretation ."
      ],
      "metadata": {
        "id": "TpcHQWFcTsbt"
      }
    },
    {
      "cell_type": "markdown",
      "source": [
        "3 What are pre-defined keywords in Python ?\n",
        " -  Pre-defined keywords in Python are reserved words that have a specific meaning in the language and cannot be used as variable names, function names, or identifiers. These keywords are part of the Python syntax and are used to define the structure and logic of the code."
      ],
      "metadata": {
        "id": "vrVdB5zaVcFC"
      }
    },
    {
      "cell_type": "markdown",
      "source": [
        "4 Can keywords be used as variable names ?\n",
        "-  No, keywords cannot be used as variable names in Python. Keywords are reserved words in Python that have specific meanings and are part of the language's syntax. Using a keyword as a variable name would result in a SyntaxError because it conflicts with Python's built-in rules."
      ],
      "metadata": {
        "id": "EddpHrBqWKXk"
      }
    },
    {
      "cell_type": "markdown",
      "source": [
        "5 What is mutability in Python ?\n",
        "-  Mutability means it can be modified after it is created .Mubtibility objects such as List and dictionaries ."
      ],
      "metadata": {
        "id": "pEUiMZrHbRGN"
      }
    },
    {
      "cell_type": "markdown",
      "source": [
        "6 Why are lists mutable, but tuples are immutable ?\n",
        "-  lists are considered mutable because they can be changed after creation, while tuples are immutable, meaning their contents cannot be modified once created."
      ],
      "metadata": {
        "id": "KJN0-Hy1dwYw"
      }
    },
    {
      "cell_type": "markdown",
      "source": [
        "7 What is the difference between “==” and “is” operators in Python ?\n",
        "-  \"==\" It is use to checks the values of two object are equal . Compares the contents and valuesof objects, regardless of whether they are same instance in memory .\n",
        "\n",
        "- \"IS\" It also check if two object refer to the same memory location. Returns true if the object are identical. Compares the identity of two object to check if they refer to the same memory location ."
      ],
      "metadata": {
        "id": "Qq-VtocBefg3"
      }
    },
    {
      "cell_type": "markdown",
      "source": [
        "8 What are logical operators in Python ?\n",
        "-  ogical operators in Python are used to combine conditional statements or expressions and evaluate them to either True or False. These operators are fundamental in making decisions and controlling the flow of a program"
      ],
      "metadata": {
        "id": "m0YZmWuvkC6s"
      }
    },
    {
      "cell_type": "markdown",
      "source": [
        "9 What is type casting in Python ?\n",
        "-  Type casting in Python refers to converting one data type into another. This is often done to perform operations that require compatible data types or to format data as needed. Python provides built-in functions for type casting, enabling developers to explicitly convert data from one type to another.\n"
      ],
      "metadata": {
        "id": "2Bkp3cWdkXYk"
      }
    },
    {
      "cell_type": "markdown",
      "source": [
        "10 What is the difference between implicit and explicit type casting ?\n",
        "-  “explicit” and “implicit” functions aren’t standard terminology in Python. However, one might refer to functions as explicit or implicit based on how directly they are called or used:\n",
        "\n",
        "\n",
        "- Explicit Functions: Functions called directly by their name.\n",
        "- Implicit Functions: Functions that get triggered as a result of other operations, like constructors or destructors in classes, or special methods like __len__() that Python calls in response to the built-in function len()."
      ],
      "metadata": {
        "id": "6HcOoWIOk5He"
      }
    },
    {
      "cell_type": "markdown",
      "source": [
        "11 What is the purpose of conditional statements in Python ?\n",
        "-  Conditional statements in Python are used to make decisions in a program. They allow you to execute certain blocks of code based on whether a given condition is True or False. These statements are crucial for controlling the flow of a program, enabling it to respond differently to various inputs or situations."
      ],
      "metadata": {
        "id": "JXJ_nzeHmYO7"
      }
    },
    {
      "cell_type": "markdown",
      "source": [
        "12  How does the elif statement work ?\n",
        "-  we can use elif within nested if statements in Python. This allows for more complex decision structures within a branch of another decision.elif allows for mutually exclusive conditions; only one branch can execute."
      ],
      "metadata": {
        "id": "X_OeKfuOn7nA"
      }
    },
    {
      "cell_type": "markdown",
      "source": [
        "13 What is the difference between for and while loops ?\n",
        "-  both for and while loops are used to execute a block of code repeatedly, but they are used in different contexts and have distinct characteristics or Both loops achieve the same result, but the for loop is more concise and easier to read when the number of iterations is known. The while loop offers more flexibility when the number of iterations depends on a condition that may change during execution."
      ],
      "metadata": {
        "id": "jQ5Mei8cqViQ"
      }
    },
    {
      "cell_type": "markdown",
      "source": [
        "14 Describe a scenario where a while loop is more suitable than a for loop.\n",
        "-  A while loop is more suitable than a for loop when the number of iterations is not known beforehand, and you need to continue looping based on a condition that can change dynamically during the loop's execution."
      ],
      "metadata": {
        "id": "OrkIZD-JrBwW"
      }
    },
    {
      "cell_type": "markdown",
      "source": [
        "# Practical Questions"
      ],
      "metadata": {
        "id": "hpfyt2JErfwa"
      }
    },
    {
      "cell_type": "markdown",
      "source": [
        "1 Write a Python program to print \"Hello, World!\""
      ],
      "metadata": {
        "id": "VtpSFwI6r2_3"
      }
    },
    {
      "cell_type": "code",
      "source": [
        "print(\"hello , world!\")"
      ],
      "metadata": {
        "colab": {
          "base_uri": "https://localhost:8080/"
        },
        "id": "yJslMxcxsCX-",
        "outputId": "e52e85b1-30eb-4e3a-9f6f-ae8fe8cab2f7"
      },
      "execution_count": 1,
      "outputs": [
        {
          "output_type": "stream",
          "name": "stdout",
          "text": [
            "hello , world!\n"
          ]
        }
      ]
    },
    {
      "cell_type": "markdown",
      "source": [
        "2 Write a python program that displays your name and age."
      ],
      "metadata": {
        "id": "btU-hWQzsSDL"
      }
    },
    {
      "cell_type": "code",
      "source": [
        "name = \"Anmol kumar sharma\"\n",
        "age = 21\n",
        "print  (\"Name =\", name)\n",
        "print (\"Age =\", age)"
      ],
      "metadata": {
        "colab": {
          "base_uri": "https://localhost:8080/"
        },
        "id": "i0Rp0Ui7sgaX",
        "outputId": "c8aab9b4-9a17-4aa5-ed1c-a329cfb385f6"
      },
      "execution_count": 3,
      "outputs": [
        {
          "output_type": "stream",
          "name": "stdout",
          "text": [
            "Name = Anmol kumar sharma\n",
            "Age = 21\n"
          ]
        }
      ]
    },
    {
      "cell_type": "markdown",
      "source": [
        "3 Write code to print all the pre-defined keywords in Python using the keyword library.\n"
      ],
      "metadata": {
        "id": "rtS3R0qEtZGz"
      }
    },
    {
      "cell_type": "code",
      "source": [
        "import keyword\n",
        "print(keyword.kwlist)"
      ],
      "metadata": {
        "colab": {
          "base_uri": "https://localhost:8080/"
        },
        "id": "Qrfkuo7btiV2",
        "outputId": "ab74c561-9416-46ca-ff93-4c968ee12fa4"
      },
      "execution_count": 4,
      "outputs": [
        {
          "output_type": "stream",
          "name": "stdout",
          "text": [
            "['False', 'None', 'True', 'and', 'as', 'assert', 'async', 'await', 'break', 'class', 'continue', 'def', 'del', 'elif', 'else', 'except', 'finally', 'for', 'from', 'global', 'if', 'import', 'in', 'is', 'lambda', 'nonlocal', 'not', 'or', 'pass', 'raise', 'return', 'try', 'while', 'with', 'yield']\n"
          ]
        }
      ]
    },
    {
      "cell_type": "markdown",
      "source": [
        "4 Write a program that checks if a given word is a Python keyword."
      ],
      "metadata": {
        "id": "UKORelLLuogP"
      }
    },
    {
      "cell_type": "code",
      "source": [
        "import keyword\n",
        "\n",
        "def check_keyword(word):\n",
        "    if keyword.iskeyword(word):\n",
        "        print(f\"'{word}' is a Python keyword.\")\n",
        "    else:\n",
        "        print(f\"'{word}' is not a Python keyword.\")\n",
        "\n",
        "word = input(\"Enter a word to check if it's a Python keyword: \")\n",
        "check_keyword(word)\n"
      ],
      "metadata": {
        "colab": {
          "base_uri": "https://localhost:8080/"
        },
        "id": "BF4wINjqutJ0",
        "outputId": "5ebf1a26-3c63-4e1f-cc50-372ad6a7e7d8"
      },
      "execution_count": 6,
      "outputs": [
        {
          "output_type": "stream",
          "name": "stdout",
          "text": [
            "Enter a word to check if it's a Python keyword: print\n",
            "'print' is not a Python keyword.\n"
          ]
        }
      ]
    },
    {
      "cell_type": "markdown",
      "source": [
        "5 Create a list and tuple in Python, and demonstrate how attempting to change an element works differently\n",
        "for each.\n"
      ],
      "metadata": {
        "id": "Y_OE7H0H0BO8"
      }
    },
    {
      "cell_type": "code",
      "source": [
        "\n",
        "my_list = [1, 2, 3, 4, \"Ram \" ,\" cat\"]\n",
        "my_tuple = (1, 2, 3, 4, 5)\n",
        "\n",
        "print(\"Original List:\", my_list)\n",
        "my_list[4] = \"Anmol\"\n",
        "print(\"Modified List:\", my_list)\n",
        "\n",
        "print(\"Original Tuple:\", my_tuple)\n",
        "try:\n",
        "    my_tuple[2] = 10\n",
        "except TypeError as e:\n",
        "    print(\"Error:\", e)\n"
      ],
      "metadata": {
        "colab": {
          "base_uri": "https://localhost:8080/"
        },
        "id": "M93yzz2l0Jm-",
        "outputId": "d4476383-2bc8-49a3-d2b7-2332a315d679"
      },
      "execution_count": 9,
      "outputs": [
        {
          "output_type": "stream",
          "name": "stdout",
          "text": [
            "Original List: [1, 2, 3, 4, 'Ram ', ' cat']\n",
            "Modified List: [1, 2, 3, 4, 'Anmol', ' cat']\n",
            "Original Tuple: (1, 2, 3, 4, 5)\n",
            "Error: 'tuple' object does not support item assignment\n"
          ]
        }
      ]
    },
    {
      "cell_type": "markdown",
      "source": [
        "6 Write a function to demonstrate the behavior of mutable and immutable arguments."
      ],
      "metadata": {
        "id": "Y1VkW7qo1qYG"
      }
    },
    {
      "cell_type": "code",
      "source": [
        "# Mutable\n",
        "\n",
        "_list= [1,2,3,4,5,\"Anmol\"]\n",
        "\n",
        "print(_list)\n",
        "\n",
        "_list [5] = \"change\"\n",
        "print(_list)\n",
        "\n",
        "# Such variables can change their value or state. Therefore, once we assign them\n",
        "# the value during declaration we can make changes in the future if a need arises."
      ],
      "metadata": {
        "colab": {
          "base_uri": "https://localhost:8080/"
        },
        "id": "b2KRFLzG1x9j",
        "outputId": "a1d070cd-0f25-4532-8e1e-9fa3a0eab715"
      },
      "execution_count": 9,
      "outputs": [
        {
          "output_type": "stream",
          "name": "stdout",
          "text": [
            "[1, 2, 3, 4, 5, 'Anmol']\n",
            "[1, 2, 3, 4, 5, 'change']\n"
          ]
        }
      ]
    },
    {
      "cell_type": "code",
      "source": [
        "# Immutable\n",
        "\n",
        "tuple1 = [1,3,4,\"Ram\",\"Cat\"]\n",
        "\n",
        "print (tuple1)\n",
        "\n",
        "tuple1[4] = \"Anmol\"\n",
        "\n",
        "print (tuple1)\n",
        "\n",
        "# Such variables cannot change their value or state. Therefore, once we assign\n",
        "# them the value during declaration we cannot make changes in the future if a need\n",
        "# arises. Moreover, if we try to change an immutable variable python gives an error."
      ],
      "metadata": {
        "colab": {
          "base_uri": "https://localhost:8080/",
          "height": 219
        },
        "id": "x3pHbZVdRJXh",
        "outputId": "80132af3-1b55-4077-c9e1-90f89832a057"
      },
      "execution_count": 13,
      "outputs": [
        {
          "output_type": "error",
          "ename": "TypeError",
          "evalue": "'list' object is not callable",
          "traceback": [
            "\u001b[0;31m---------------------------------------------------------------------------\u001b[0m",
            "\u001b[0;31mTypeError\u001b[0m                                 Traceback (most recent call last)",
            "\u001b[0;32m<ipython-input-13-7d29737878cf>\u001b[0m in \u001b[0;36m<cell line: 5>\u001b[0;34m()\u001b[0m\n\u001b[1;32m      3\u001b[0m \u001b[0mtuple1\u001b[0m \u001b[0;34m=\u001b[0m \u001b[0;34m[\u001b[0m\u001b[0;36m1\u001b[0m\u001b[0;34m,\u001b[0m\u001b[0;36m3\u001b[0m\u001b[0;34m,\u001b[0m\u001b[0;36m4\u001b[0m\u001b[0;34m,\u001b[0m\u001b[0;34m\"Ram\"\u001b[0m\u001b[0;34m,\u001b[0m\u001b[0;34m\"Cat\"\u001b[0m\u001b[0;34m]\u001b[0m\u001b[0;34m\u001b[0m\u001b[0;34m\u001b[0m\u001b[0m\n\u001b[1;32m      4\u001b[0m \u001b[0;34m\u001b[0m\u001b[0m\n\u001b[0;32m----> 5\u001b[0;31m \u001b[0mprint\u001b[0m \u001b[0;34m(\u001b[0m\u001b[0mtuple1\u001b[0m\u001b[0;34m)\u001b[0m\u001b[0;34m\u001b[0m\u001b[0;34m\u001b[0m\u001b[0m\n\u001b[0m\u001b[1;32m      6\u001b[0m \u001b[0;34m\u001b[0m\u001b[0m\n\u001b[1;32m      7\u001b[0m \u001b[0mtuple1\u001b[0m\u001b[0;34m[\u001b[0m\u001b[0;36m4\u001b[0m\u001b[0;34m]\u001b[0m \u001b[0;34m=\u001b[0m \u001b[0;34m\"Anmol\"\u001b[0m\u001b[0;34m\u001b[0m\u001b[0;34m\u001b[0m\u001b[0m\n",
            "\u001b[0;31mTypeError\u001b[0m: 'list' object is not callable"
          ]
        }
      ]
    },
    {
      "cell_type": "markdown",
      "source": [
        "7 Write a program to demonstrate the use of logical operators.\n"
      ],
      "metadata": {
        "id": "hvDfz94SR8mS"
      }
    },
    {
      "cell_type": "code",
      "source": [
        "# AND logical operators\n",
        "\n",
        "a = 45\n",
        "b = 65\n",
        "\n",
        "from builtins import print\n",
        "\n",
        "if a < b and b > a:\n",
        "    print(\"True\")\n",
        "else:\n",
        "    print(\"False\")\n",
        "\n",
        "# OR logical operator\n",
        "\n",
        "a = 95\n",
        "b = 45\n",
        "\n",
        "from builtins import print\n",
        "\n",
        "if a < b or b > a:\n",
        "   print(\"True\")\n",
        "else:\n",
        "  print(\"False\")\n",
        "\n",
        "# Bitewise operators\n",
        "\n",
        "#AND\n",
        "\n",
        "d = 45 & 65\n",
        "print(d)\n",
        "\n",
        "#OR\n",
        "\n",
        "F = 94 | 45\n",
        "print(F)"
      ],
      "metadata": {
        "colab": {
          "base_uri": "https://localhost:8080/"
        },
        "id": "0jAMZF91SVx7",
        "outputId": "43d01d71-fbce-4bea-eb58-3bdec83ce94c"
      },
      "execution_count": 23,
      "outputs": [
        {
          "output_type": "stream",
          "name": "stdout",
          "text": [
            "True\n",
            "False\n",
            "1\n",
            "127\n"
          ]
        }
      ]
    },
    {
      "cell_type": "markdown",
      "source": [
        "8 Write a Python program to convert user input from string to integer, float, and boolean types."
      ],
      "metadata": {
        "id": "XUNnVePRo8LV"
      }
    },
    {
      "cell_type": "code",
      "source": [
        "user = input(\"Enter your value \")\n",
        "\n",
        "print(int(user))\n",
        "print(float(user))\n",
        "if user == \"1\":\n",
        "    print(bool(user))\n",
        "else:\n",
        "    print(bool(user))"
      ],
      "metadata": {
        "colab": {
          "base_uri": "https://localhost:8080/"
        },
        "id": "UY6rG530pFBe",
        "outputId": "8106e815-62d1-486d-b4da-12e281ac62f2"
      },
      "execution_count": 25,
      "outputs": [
        {
          "output_type": "stream",
          "name": "stdout",
          "text": [
            "Enter your value 1\n",
            "1\n",
            "1.0\n",
            "True\n"
          ]
        }
      ]
    },
    {
      "cell_type": "markdown",
      "source": [
        "9 Write code to demonstrate type casting with list elements."
      ],
      "metadata": {
        "id": "2F6so0NuqeoV"
      }
    },
    {
      "cell_type": "code",
      "source": [
        "string_list = [\"1\", \"2\", \"3\", \"4\", \"5\"]\n",
        "\n",
        "int_list = [int(element) for element in string_list]\n",
        "\n",
        "print(int_list)\n",
        "\n",
        "float_list = [float(element) for element in string_list]\n",
        "\n",
        "print(float_list)\n",
        "\n",
        "bool_list = [bool(element) for element in string_list]\n",
        "\n",
        "print(bool_list)\n",
        "\n"
      ],
      "metadata": {
        "colab": {
          "base_uri": "https://localhost:8080/"
        },
        "id": "YCoWjQbTqlke",
        "outputId": "e6d7bff7-c231-4b0e-9ce9-7dec85390f0d"
      },
      "execution_count": 26,
      "outputs": [
        {
          "output_type": "stream",
          "name": "stdout",
          "text": [
            "[1, 2, 3, 4, 5]\n",
            "[1.0, 2.0, 3.0, 4.0, 5.0]\n",
            "[True, True, True, True, True]\n"
          ]
        }
      ]
    },
    {
      "cell_type": "markdown",
      "source": [
        "10 Write a program that checks if a number is positive, negative, or zero."
      ],
      "metadata": {
        "id": "ELVWAx46sJP0"
      }
    },
    {
      "cell_type": "code",
      "source": [
        "number = float(input(\"Enter a number \"))\n",
        "\n",
        "if number  > 0 :\n",
        "  print(\"The user enter number is positive\")\n",
        "\n",
        "elif number < 0 :\n",
        "  print(\"The user enter number is negative\")\n",
        "\n",
        "else:\n",
        "  print(\"The user enter number is 0 \")"
      ],
      "metadata": {
        "colab": {
          "base_uri": "https://localhost:8080/"
        },
        "id": "ggt1uoA5suVC",
        "outputId": "0e665fa4-412f-4ee8-a8cf-2f2f565c85a3"
      },
      "execution_count": 31,
      "outputs": [
        {
          "output_type": "stream",
          "name": "stdout",
          "text": [
            "Enter a number 0\n",
            "The user enter number is 0 \n"
          ]
        }
      ]
    },
    {
      "cell_type": "markdown",
      "source": [
        "11  Write a for loop to print numbers from 1 to 100"
      ],
      "metadata": {
        "id": "HR69edCNtxM-"
      }
    },
    {
      "cell_type": "code",
      "source": [
        "count = 0\n",
        "while count <= 10 :\n",
        "    print(count ,end = \" \")\n",
        "    count = count + 1"
      ],
      "metadata": {
        "colab": {
          "base_uri": "https://localhost:8080/"
        },
        "id": "CmJjgtcpt2Op",
        "outputId": "fdd43193-f372-4592-823a-7035e683206a"
      },
      "execution_count": 35,
      "outputs": [
        {
          "output_type": "stream",
          "name": "stdout",
          "text": [
            "0 1 2 3 4 5 6 7 8 9 10 "
          ]
        }
      ]
    },
    {
      "cell_type": "markdown",
      "source": [
        "12 Write a Python program to find the sum of all even numbers between 1 and 500."
      ],
      "metadata": {
        "id": "F1Desy3SuNCo"
      }
    },
    {
      "cell_type": "code",
      "source": [
        "#print the even no\n",
        "for i in range(500):\n",
        "    if i%2 != 0:\n",
        "        continue\n",
        "    print(i ,end = \" , \")"
      ],
      "metadata": {
        "colab": {
          "base_uri": "https://localhost:8080/"
        },
        "id": "CT-Zrb0gu19K",
        "outputId": "509880cf-501e-4fd5-a1b6-77e321b22046"
      },
      "execution_count": 40,
      "outputs": [
        {
          "output_type": "stream",
          "name": "stdout",
          "text": [
            "0 , 2 , 4 , 6 , 8 , 10 , 12 , 14 , 16 , 18 , 20 , 22 , 24 , 26 , 28 , 30 , 32 , 34 , 36 , 38 , 40 , 42 , 44 , 46 , 48 , 50 , 52 , 54 , 56 , 58 , 60 , 62 , 64 , 66 , 68 , 70 , 72 , 74 , 76 , 78 , 80 , 82 , 84 , 86 , 88 , 90 , 92 , 94 , 96 , 98 , 100 , 102 , 104 , 106 , 108 , 110 , 112 , 114 , 116 , 118 , 120 , 122 , 124 , 126 , 128 , 130 , 132 , 134 , 136 , 138 , 140 , 142 , 144 , 146 , 148 , 150 , 152 , 154 , 156 , 158 , 160 , 162 , 164 , 166 , 168 , 170 , 172 , 174 , 176 , 178 , 180 , 182 , 184 , 186 , 188 , 190 , 192 , 194 , 196 , 198 , 200 , 202 , 204 , 206 , 208 , 210 , 212 , 214 , 216 , 218 , 220 , 222 , 224 , 226 , 228 , 230 , 232 , 234 , 236 , 238 , 240 , 242 , 244 , 246 , 248 , 250 , 252 , 254 , 256 , 258 , 260 , 262 , 264 , 266 , 268 , 270 , 272 , 274 , 276 , 278 , 280 , 282 , 284 , 286 , 288 , 290 , 292 , 294 , 296 , 298 , 300 , 302 , 304 , 306 , 308 , 310 , 312 , 314 , 316 , 318 , 320 , 322 , 324 , 326 , 328 , 330 , 332 , 334 , 336 , 338 , 340 , 342 , 344 , 346 , 348 , 350 , 352 , 354 , 356 , 358 , 360 , 362 , 364 , 366 , 368 , 370 , 372 , 374 , 376 , 378 , 380 , 382 , 384 , 386 , 388 , 390 , 392 , 394 , 396 , 398 , 400 , 402 , 404 , 406 , 408 , 410 , 412 , 414 , 416 , 418 , 420 , 422 , 424 , 426 , 428 , 430 , 432 , 434 , 436 , 438 , 440 , 442 , 444 , 446 , 448 , 450 , 452 , 454 , 456 , 458 , 460 , 462 , 464 , 466 , 468 , 470 , 472 , 474 , 476 , 478 , 480 , 482 , 484 , 486 , 488 , 490 , 492 , 494 , 496 , 498 , "
          ]
        }
      ]
    },
    {
      "cell_type": "markdown",
      "source": [
        "13 Write a program to reverse a string using a while loop."
      ],
      "metadata": {
        "id": "jyZW0fMqwvtM"
      }
    },
    {
      "cell_type": "code",
      "source": [
        "\n",
        "original_string = input(\"Enter a string: \")\n",
        "\n",
        "reversed_string = \"\"\n",
        "index = len(original_string) - 1\n",
        "\n",
        "while index >= 0:\n",
        "    reversed_string += original_string[index]\n",
        "    index -= 1\n",
        "\n",
        "print(\"Reversed string:\", reversed_string)\n"
      ],
      "metadata": {
        "colab": {
          "base_uri": "https://localhost:8080/"
        },
        "id": "JAJMyDvTw1-w",
        "outputId": "38176010-5a61-4d47-b7f4-21450771c4bf"
      },
      "execution_count": 41,
      "outputs": [
        {
          "output_type": "stream",
          "name": "stdout",
          "text": [
            "Enter a string: Anmol\n",
            "Reversed string: lomnA\n"
          ]
        }
      ]
    },
    {
      "cell_type": "markdown",
      "source": [
        "14 Write a Python program to calculate the factorial of a number provided by the user using a while loop."
      ],
      "metadata": {
        "id": "oZvTOX5vxmW9"
      }
    },
    {
      "cell_type": "code",
      "source": [
        "# Get user input\n",
        "number = int(input(\"Enter a non-negative integer: \"))\n",
        "\n",
        "# Initialize variables\n",
        "factorial = 1\n",
        "i = number\n",
        "\n",
        "# Check if the input is valid\n",
        "if number < 0:\n",
        "    print(\"Factorial is not defined for negative numbers.\")\n",
        "else:\n",
        "    # Use a while loop to calculate the factorial\n",
        "    while i > 0:\n",
        "        factorial *= i\n",
        "        i -= 1\n",
        "\n",
        "    # Print the result\n",
        "    print(f\"The factorial of {number} is {factorial}.\")\n"
      ],
      "metadata": {
        "colab": {
          "base_uri": "https://localhost:8080/"
        },
        "id": "GO6Aag4gxtiq",
        "outputId": "2b76023b-a030-438b-9009-7d35c78c0ed6"
      },
      "execution_count": 42,
      "outputs": [
        {
          "output_type": "stream",
          "name": "stdout",
          "text": [
            "Enter a non-negative integer: 5\n",
            "The factorial of 5 is 120.\n"
          ]
        }
      ]
    }
  ]
}